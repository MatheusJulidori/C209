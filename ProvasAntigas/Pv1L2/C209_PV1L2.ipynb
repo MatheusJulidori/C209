{
 "cells": [
  {
   "cell_type": "markdown",
   "id": "c77b1bb0",
   "metadata": {},
   "source": [
    "### Nome do Aluno:           Matrícula:\n",
    "\n"
   ]
  },
  {
   "cell_type": "markdown",
   "id": "678b2329",
   "metadata": {},
   "source": [
    "# Parte teórica"
   ]
  },
  {
   "cell_type": "markdown",
   "id": "336b01bb",
   "metadata": {},
   "source": [
    "Classifique as afirmações em Verdadeiro ou Falso, justifique as afirmativas falsas."
   ]
  },
  {
   "cell_type": "markdown",
   "id": "7c97428d",
   "metadata": {},
   "source": [
    "1 - A resolução de uma imagem matricial é dada por **altura x largura** em pixels."
   ]
  },
  {
   "cell_type": "code",
   "execution_count": null,
   "id": "de2319c7",
   "metadata": {},
   "outputs": [],
   "source": []
  },
  {
   "cell_type": "markdown",
   "id": "7e16efe9",
   "metadata": {},
   "source": [
    "2 - O código abaixo resultará em um caminho que será finalizado ligando o ponto inicial com o ponto final.\n",
    "\n",
    "```<path d= \"M 0 200 q 80 -240 160 0 Z\" fill=\"red\" stroke= \"white\" />```"
   ]
  },
  {
   "cell_type": "code",
   "execution_count": null,
   "id": "4c19856f",
   "metadata": {},
   "outputs": [],
   "source": []
  },
  {
   "cell_type": "markdown",
   "id": "5bb83118",
   "metadata": {},
   "source": [
    "3 - Normalmente, são utilizadas **imagens binárias** para **transformações geométricas** em imagens."
   ]
  },
  {
   "cell_type": "code",
   "execution_count": null,
   "id": "4f6ea11e",
   "metadata": {},
   "outputs": [],
   "source": []
  },
  {
   "cell_type": "markdown",
   "id": "cdd60f36",
   "metadata": {},
   "source": [
    "4 - No espaço de cores CMY, a combinação das três cores é o preto. Esse espaço de cores, normalmente, é utilizado para impressões."
   ]
  },
  {
   "cell_type": "code",
   "execution_count": null,
   "id": "a4cff5e7",
   "metadata": {},
   "outputs": [],
   "source": []
  },
  {
   "cell_type": "markdown",
   "id": "c45bb9dd",
   "metadata": {},
   "source": [
    "5 - Na operação aritmética **Subtração**, pode ocorrer **overflow**."
   ]
  },
  {
   "cell_type": "code",
   "execution_count": null,
   "id": "50e3c74d",
   "metadata": {},
   "outputs": [],
   "source": []
  },
  {
   "cell_type": "markdown",
   "id": "10a0b729",
   "metadata": {},
   "source": [
    "# Parte prática"
   ]
  },
  {
   "cell_type": "markdown",
   "id": "9a30913d",
   "metadata": {},
   "source": [
    "## Material de apoio"
   ]
  },
  {
   "cell_type": "markdown",
   "id": "1b7a3dda",
   "metadata": {},
   "source": [
    "### Importações\n",
    "\n",
    "```\n",
    "import matplotlib.pyplot as plt\n",
    "import numpy as np\n",
    "from PIL import Image\n",
    "```\n",
    "\n",
    "### Manipulação de imagens\n",
    "\n",
    "```\n",
    "img = Image.open('nome.extensão')\n",
    "img = np.array(Image.open('nome.extensão'))\n",
    "img = img[:, :, :3]\n",
    "img_pil = Image.fromarray(img_np)\n",
    "img.save('nome.png')\n",
    "Image.fromarray(img).save('nome_arquivo.extensao')\n",
    "(l,c,p) = img.shape\n",
    "plt.imshow(img) \n",
    "plt.imshow(img, cmap=\"gray\")\n",
    "```\n",
    "\n",
    "### Greyscale\n",
    "\n",
    "#### Algoritmo genérico, substituir o método escolhido\n",
    "```\n",
    "img_avg = np.zeros(shape=(l, c), dtype=np.uint8)\n",
    "for i in range(l):\n",
    "    for j in range(c):\n",
    "        r = float(img_np[i, j, 0])\n",
    "        g = float(img_np[i, j, 1])\n",
    "        b = float(img_np[i, j, 2])\n",
    "        \n",
    "        img_avg[i, j] = (aplicar método)\n",
    "```\n",
    "\n",
    "#### Métodos: \n",
    "\n",
    "Lightness: $\\frac{max(R,G,B)+min(R,G,B)}{2}$\n",
    "\n",
    "Average: $\\frac{R+G+B}{3}$\n",
    "\n",
    "Luminosity: $0.2126 \\cdot R + 0.7152 \\cdot G + 0.0722 \\cdot B$\n",
    "\n",
    "#### Utilizando o numpy:\n",
    "\n",
    "Avarage: ```gray = np.average(img,axis=2)```\n",
    "\n",
    "Luminosity: ```gray = ((0.2126 * img[:, :, 0]) + (0.7152 * img[:, :, 1]) + (0.0722 * img[:, :, 2])).astype(np.uint8)```\n",
    "\n",
    "\n",
    "### Escalonamento com nearest neighbor\n",
    "\n",
    "```\n",
    "ls, cs = l * sy, c * sx\n",
    "mario_nn = np.zeros(shape=(ls, cs, p), dtype=np.uint8)\n",
    "\n",
    "for i in range(ls):\n",
    "    for j in range(cs):\n",
    "        new_y = int(np.floor(i * (l / ls)))\n",
    "        new_x = int(np.floor(j * (c / cs)))\n",
    "\n",
    "        mario_nn[i, j] = mario[new_y, new_x]\n",
    "```\n",
    "\n",
    "### Imagem grayscale para imagem binária de 3 canais\n",
    "\n",
    "``` \n",
    "bin = np.zeros(shape=(l,c,3),dtype=np.uint8)\n",
    "    \n",
    "for i in range(l):\n",
    "    for j in range(c):\n",
    "        if img[i,j] > thresh: \n",
    "            bin[i,j,:] = 255 \n",
    "        else: \n",
    "            bin[i,j,:] = 0\n",
    "\n",
    "```\n",
    "\n",
    "### Histogramas \n",
    "\n",
    "```\n",
    "def histogram_gray(img):\n",
    "    (l, c) = img.shape\n",
    "    histogram = np.zeros(256, dtype=np.int32)\n",
    "\n",
    "    for i in range(l):\n",
    "        for j in range(c):\n",
    "            intensity = int(img[i, j])\n",
    "            histogram[intensity] += 1\n",
    "            \n",
    "    return histogram\n",
    "\n",
    "def show_histogram_gray(img):\n",
    "    histogram = histogram_gray(img)\n",
    "    plt.figure(figsize=(16, 16))\n",
    "    plt.subplot(2, 1, 1)\n",
    "    plt.bar(range(256), histogram)\n",
    "    \n",
    "def show_histogram(img):\n",
    "    histogram_r = histogram_gray(img[:, :, 0])\n",
    "    histogram_g = histogram_gray(img[:, :, 1])\n",
    "    histogram_b = histogram_gray(img[:, :, 2])\n",
    "    \n",
    "    plt.figure(figsize=(16, 16))\n",
    "    plt.subplot(2, 1, 1)\n",
    "    plt.bar(range(256), histogram_r, color='red')\n",
    "    plt.bar(range(256), histogram_g, color='green')\n",
    "    plt.bar(range(256), histogram_b, color='blue')   \n",
    "```\n",
    "\n",
    "### Realce de Cor | Modificação do brilho\n",
    "\n",
    "```\n",
    "photo = np.array(Image.open('photo.jpg'))\n",
    "\n",
    "plt.figure(figsize=(16, 16))\n",
    "plt.subplot(2, 2, 1)\n",
    "photo_mul = np.clip(photo * 1.5, 0, 255).astype(np.uint8)\n",
    "plt.imshow(photo_mul)\n",
    "\n",
    "plt.subplot(2, 2, 2)\n",
    "photo_div = (photo / 1.5).astype(np.uint8)\n",
    "plt.imshow(photo_div)\n",
    "```\n",
    "\n",
    "\n",
    "### Monocromático \n",
    "\n",
    "```\n",
    "gray = (Realizar operação de grayscale)\n",
    "tinted = np.zeros(shape=img.shape, dtype=np.uint8)\n",
    "\n",
    "# ex: laranja em RGB: (255, 127, 0)\n",
    "\n",
    "tinted[:, :, 0] = gray * (255 / 255)\n",
    "tinted[:, :, 1] = gray * (127 / 255)\n",
    "tinted[:, :, 2] = gray * (  0 / 255)\n",
    "```"
   ]
  },
  {
   "cell_type": "markdown",
   "id": "7c2ee26a",
   "metadata": {},
   "source": [
    "**1 -** Importe as bibliotecas que serão usadas."
   ]
  },
  {
   "cell_type": "code",
   "execution_count": null,
   "id": "fafe6632",
   "metadata": {},
   "outputs": [],
   "source": []
  },
  {
   "cell_type": "markdown",
   "id": "8a8a08cb",
   "metadata": {},
   "source": [
    "**2 -** Abra as imagens **sunflower.png** e **horse.jpg**, mostre as dimensões de cada uma, retire o canal alpha se necessário e exiba essas imagens. Indique se há ou não o canal alpha."
   ]
  },
  {
   "cell_type": "code",
   "execution_count": null,
   "id": "af0be99d",
   "metadata": {},
   "outputs": [],
   "source": []
  },
  {
   "cell_type": "markdown",
   "id": "9bc7995e",
   "metadata": {},
   "source": [
    "**3 -** Crie uma função que receba como parâmetro uma imagem colorida e retorne sua versão em grayscale com um método de sua escolha. Aplique a função na imagem **horse** e exiba o resultado."
   ]
  },
  {
   "cell_type": "code",
   "execution_count": null,
   "id": "8b86f1ce",
   "metadata": {},
   "outputs": [],
   "source": []
  },
  {
   "cell_type": "markdown",
   "id": "c9efc339",
   "metadata": {},
   "source": [
    "**4 -** Crie uma função que receba uma **imagem em grayscale** e retorne sua versão **binária**. A função deve receber como parâmetro a **imagem em grayscale** e o **valor de threshold**. Aplique essa função na **imagem resultante da questão 3** com o valor de **threshold igual a 125** e exiba o resultado."
   ]
  },
  {
   "cell_type": "code",
   "execution_count": null,
   "id": "ccead925",
   "metadata": {},
   "outputs": [],
   "source": []
  },
  {
   "cell_type": "markdown",
   "id": "97bfc606",
   "metadata": {},
   "source": [
    "**5 -** Crie uma função que receba uma **imagem colorida** e retorne sua versão em um espectro **monocromático**. A função deve receber como parâmetro a **imagem colorida** e os valores de **R**, **G** e **B** e retornar a imagem monocromática, utilizando a cor **RGB(221,160,221)**. Aplique essa função na imagem **sunflower** e exiba o resultado."
   ]
  },
  {
   "cell_type": "code",
   "execution_count": null,
   "id": "509c80a0",
   "metadata": {},
   "outputs": [],
   "source": []
  },
  {
   "cell_type": "markdown",
   "id": "e0f4969b",
   "metadata": {},
   "source": [
    "**6-** Mostre o histograma em **grayscale** da imagem **horse em grayscale** calculada na **questão 3**."
   ]
  },
  {
   "cell_type": "code",
   "execution_count": null,
   "id": "b8bda240",
   "metadata": {},
   "outputs": [],
   "source": []
  },
  {
   "cell_type": "markdown",
   "id": "eb65cb35",
   "metadata": {},
   "source": [
    "**7 -** Crie uma função para aumentar ou diminuir a iluminação de uma imagem, ela deve receber como parâmetro a imagem original e o fator de iluminaçã que deverá ser aplicado. Aplique a função na imagem **horse** diminuindo a iluminação em **50%**. Exiba o resultado."
   ]
  },
  {
   "cell_type": "code",
   "execution_count": null,
   "id": "41696632",
   "metadata": {},
   "outputs": [],
   "source": []
  },
  {
   "cell_type": "markdown",
   "id": "09a3b69a",
   "metadata": {},
   "source": [
    "**8 -** Crie uma função que realize o escalonamento de uma imagem que receba como parâmetro uma imagem, sx e sy, sendo sx e sy os fatores de escalonamento e retorne a imagem escalonada. Em seguida, aplique o escalonamento, com sx e sy iguais a 2, na imagem **sunflower** e exiba o resultado."
   ]
  },
  {
   "cell_type": "code",
   "execution_count": null,
   "id": "186371d0",
   "metadata": {},
   "outputs": [],
   "source": []
  },
  {
   "cell_type": "markdown",
   "id": "37ceb5a0",
   "metadata": {},
   "source": [
    "**9 -** Salve a imagem da questão **8** no disco com o nome \"resultado.jpg\""
   ]
  },
  {
   "cell_type": "code",
   "execution_count": null,
   "id": "925fc528",
   "metadata": {},
   "outputs": [],
   "source": []
  }
 ],
 "metadata": {
  "kernelspec": {
   "display_name": "Python 3 (ipykernel)",
   "language": "python",
   "name": "python3"
  },
  "language_info": {
   "codemirror_mode": {
    "name": "ipython",
    "version": 3
   },
   "file_extension": ".py",
   "mimetype": "text/x-python",
   "name": "python",
   "nbconvert_exporter": "python",
   "pygments_lexer": "ipython3",
   "version": "3.9.7"
  }
 },
 "nbformat": 4,
 "nbformat_minor": 5
}
